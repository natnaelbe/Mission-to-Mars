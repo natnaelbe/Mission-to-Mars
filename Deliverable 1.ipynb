{
 "cells": [
  {
   "cell_type": "code",
   "execution_count": 43,
   "metadata": {},
   "outputs": [
    {
     "name": "stdout",
     "output_type": "stream",
     "text": [
      "https://astrogeology.usgs.gov/search/map/Mars/Viking/cerberus_enhanced\n",
      "https://astrogeology.usgs.gov/search/map/Mars/Viking/schiaparelli_enhanced\n",
      "https://astrogeology.usgs.gov/search/map/Mars/Viking/syrtis_major_enhanced\n",
      "https://astrogeology.usgs.gov/search/map/Mars/Viking/valles_marineris_enhanced\n",
      "[{'img_url': 'https://astropedia.astrogeology.usgs.gov/download/Mars/Viking/cerberus_enhanced.tif/full.jpg', 'title': 'Cerberus Hemisphere Enhanced'}, {'img_url': 'https://astropedia.astrogeology.usgs.gov/download/Mars/Viking/schiaparelli_enhanced.tif/full.jpg', 'title': 'Schiaparelli Hemisphere Enhanced'}, {'img_url': 'https://astropedia.astrogeology.usgs.gov/download/Mars/Viking/syrtis_major_enhanced.tif/full.jpg', 'title': 'Syrtis Major Hemisphere Enhanced'}, {'img_url': 'https://astropedia.astrogeology.usgs.gov/download/Mars/Viking/valles_marineris_enhanced.tif/full.jpg', 'title': 'Valles Marineris Hemisphere Enhanced'}]\n"
     ]
    },
    {
     "data": {
      "text/plain": [
       "\"\\n# Optional delay for loading the page\\nbrowser.is_element_present_by_css('div.list_text', wait_time=1)\\n\\n# Convert the browser html to a soup object and then quit the browser\\nhtml = browser.html\\nnews_soup = soup(html, 'html.parser')\\n\\nslide_elem = news_soup.select_one('div.list_text')\\n\\nslide_elem.find('div', class_='content_title')\\n\\n# Use the parent element to find the first a tag and save it as `news_title`\\nnews_title = slide_elem.find('div', class_='content_title').get_text()\\nnews_title\\n\\n# Use the parent element to find the paragraph text\\nnews_p = slide_elem.find('div', class_='article_teaser_body').get_text()\\nnews_p\\n\\n### JPL Space Images Featured Image\\n\\n# Visit URL\\nurl = 'https://spaceimages-mars.com'\\nbrowser.visit(url)\\n\\n# Find and click the full image button\\nfull_image_elem = browser.find_by_tag('button')[1]\\nfull_image_elem.click()\\n\\n# Parse the resulting html with soup\\nhtml = browser.html\\nimg_soup = soup(html, 'html.parser')\\nimg_soup\\n\\n# find the relative image url\\nimg_url_rel = img_soup.find('img', class_='fancybox-image').get('src')\\nimg_url_rel\\n\\n# Use the base url to create an absolute url\\nimg_url = f'https://spaceimages-mars.com/{img_url_rel}'\\nimg_url\\n\\n### Mars Facts\\n\\ndf = pd.read_html('https://galaxyfacts-mars.com')[0]\\ndf.head()\\n\\ndf.columns=['Description', 'Mars', 'Earth']\\ndf.set_index('Description', inplace=True)\\ndf\\n\\ndf.to_html()\\n\\n# D1: Scrape High-Resolution Mars’ Hemisphere Images and Titles\\n\\n### Hemispheres\\n\\n# 1. Use browser to visit the URL \\nurl = 'https://marshemispheres.com/'\\n\\nbrowser.visit(url)\\n\\n# 2. Create a list to hold the images and titles.\\nhemisphere_image_urls = []\\n\\n# 3. Write code to retrieve the image urls and titles for each hemisphere.\\n\\n\\n# 4. Print the list that holds the dictionary of each image url and title.\\nhemisphere_image_urls\\n\\n# 5. Quit the browser\\nbrowser.quit()\\n\""
      ]
     },
     "execution_count": 43,
     "metadata": {},
     "output_type": "execute_result"
    }
   ],
   "source": [
    "# Import Splinter, BeautifulSoup, and Pandas\n",
    "from splinter import Browser\n",
    "from bs4 import BeautifulSoup as soup\n",
    "import pandas as pd\n",
    "from webdriver_manager.chrome import ChromeDriverManager\n",
    "\n",
    "# Set the executable path and initialize Splinter\n",
    "executable_path = {'executable_path': ChromeDriverManager().install()}\n",
    "browser = Browser('chrome', **executable_path, headless=False)\n",
    "\n",
    "### Visit the NASA Mars News Site\n",
    "\n",
    "# Visit the mars nasa news site\n",
    "url = 'https://astrogeology.usgs.gov/search/results?q=hemisphere+enhanced&k1=target&v1=Mars'\n",
    "browser.visit(url)\n",
    "\n",
    "hemisphere_image_urls = []\n",
    "\n",
    "initial_landing_page_html = browser.html\n",
    "\n",
    "mars_soup = soup(initial_landing_page_html, 'html.parser')\n",
    "\n",
    "all_item_divs = mars_soup.find_all('div', class_='item')\n",
    "\n",
    "for div in all_item_divs:\n",
    "    \n",
    "    url = div.findChild(\"a\")\n",
    "    url_str = url.get('href')\n",
    "    print(\"https://astrogeology.usgs.gov\"+url_str)\n",
    "    img = url.findChild(\"img\")\n",
    "    \n",
    "    browser.visit(\"https://astrogeology.usgs.gov\"+url_str)\n",
    "    image_html = browser.html\n",
    "    image_soup = soup(image_html, 'html.parser')\n",
    "    image_url = image_soup.find('a', text='Sample')\n",
    "    image_title = image_soup.find('h2', class_='title')\n",
    "    hemisphere_image_urls.append({'img_url': image_url['href'], 'title': image_title.text})\n",
    "\n",
    "print(hemisphere_image_urls)\n",
    "\n",
    "browser.quit()\n",
    "\"\"\"\n",
    "# Optional delay for loading the page\n",
    "browser.is_element_present_by_css('div.list_text', wait_time=1)\n",
    "\n",
    "# Convert the browser html to a soup object and then quit the browser\n",
    "html = browser.html\n",
    "news_soup = soup(html, 'html.parser')\n",
    "\n",
    "slide_elem = news_soup.select_one('div.list_text')\n",
    "\n",
    "slide_elem.find('div', class_='content_title')\n",
    "\n",
    "# Use the parent element to find the first a tag and save it as `news_title`\n",
    "news_title = slide_elem.find('div', class_='content_title').get_text()\n",
    "news_title\n",
    "\n",
    "# Use the parent element to find the paragraph text\n",
    "news_p = slide_elem.find('div', class_='article_teaser_body').get_text()\n",
    "news_p\n",
    "\n",
    "### JPL Space Images Featured Image\n",
    "\n",
    "# Visit URL\n",
    "url = 'https://spaceimages-mars.com'\n",
    "browser.visit(url)\n",
    "\n",
    "# Find and click the full image button\n",
    "full_image_elem = browser.find_by_tag('button')[1]\n",
    "full_image_elem.click()\n",
    "\n",
    "# Parse the resulting html with soup\n",
    "html = browser.html\n",
    "img_soup = soup(html, 'html.parser')\n",
    "img_soup\n",
    "\n",
    "# find the relative image url\n",
    "img_url_rel = img_soup.find('img', class_='fancybox-image').get('src')\n",
    "img_url_rel\n",
    "\n",
    "# Use the base url to create an absolute url\n",
    "img_url = f'https://spaceimages-mars.com/{img_url_rel}'\n",
    "img_url\n",
    "\n",
    "### Mars Facts\n",
    "\n",
    "df = pd.read_html('https://galaxyfacts-mars.com')[0]\n",
    "df.head()\n",
    "\n",
    "df.columns=['Description', 'Mars', 'Earth']\n",
    "df.set_index('Description', inplace=True)\n",
    "df\n",
    "\n",
    "df.to_html()\n",
    "\n",
    "# D1: Scrape High-Resolution Mars’ Hemisphere Images and Titles\n",
    "\n",
    "### Hemispheres\n",
    "\n",
    "# 1. Use browser to visit the URL \n",
    "url = 'https://marshemispheres.com/'\n",
    "\n",
    "browser.visit(url)\n",
    "\n",
    "# 2. Create a list to hold the images and titles.\n",
    "hemisphere_image_urls = []\n",
    "\n",
    "# 3. Write code to retrieve the image urls and titles for each hemisphere.\n",
    "\n",
    "\n",
    "# 4. Print the list that holds the dictionary of each image url and title.\n",
    "hemisphere_image_urls\n",
    "\n",
    "# 5. Quit the browser\n",
    "browser.quit()\n",
    "\"\"\""
   ]
  },
  {
   "cell_type": "code",
   "execution_count": 2,
   "metadata": {},
   "outputs": [
    {
     "name": "stdout",
     "output_type": "stream",
     "text": [
      "Requirement already satisfied: splinter[selenium3] in c:\\users\\benja\\anaconda3\\lib\\site-packages (0.18.1)\n",
      "Requirement already satisfied: selenium<4.0,>=3.141.0 in c:\\users\\benja\\anaconda3\\lib\\site-packages (from splinter[selenium3]) (3.141.0)\n",
      "Requirement already satisfied: urllib3 in c:\\users\\benja\\anaconda3\\lib\\site-packages (from selenium<4.0,>=3.141.0->splinter[selenium3]) (1.25.11)\n",
      "Note: you may need to restart the kernel to use updated packages.\n"
     ]
    },
    {
     "name": "stderr",
     "output_type": "stream",
     "text": [
      "WARNING: You are using pip version 21.1.2; however, version 22.2.2 is available.\n",
      "You should consider upgrading via the 'C:\\Users\\benja\\anaconda3\\python.exe -m pip install --upgrade pip' command.\n"
     ]
    }
   ],
   "source": [
    "pip install splinter[selenium3]"
   ]
  },
  {
   "cell_type": "code",
   "execution_count": null,
   "metadata": {},
   "outputs": [],
   "source": []
  }
 ],
 "metadata": {
  "kernelspec": {
   "display_name": "Python 3",
   "language": "python",
   "name": "python3"
  },
  "language_info": {
   "codemirror_mode": {
    "name": "ipython",
    "version": 3
   },
   "file_extension": ".py",
   "mimetype": "text/x-python",
   "name": "python",
   "nbconvert_exporter": "python",
   "pygments_lexer": "ipython3",
   "version": "3.8.5"
  }
 },
 "nbformat": 4,
 "nbformat_minor": 4
}
